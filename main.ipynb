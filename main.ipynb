{
 "metadata": {
  "language_info": {
   "codemirror_mode": {
    "name": "ipython",
    "version": 3
   },
   "file_extension": ".py",
   "mimetype": "text/x-python",
   "name": "python",
   "nbconvert_exporter": "python",
   "pygments_lexer": "ipython3",
   "version": "3.9.4"
  },
  "orig_nbformat": 2,
  "kernelspec": {
   "name": "python394jvsc74a57bd0a19b38f71bdd960cb898334f7cecb5afcfaadeea2e0f2108e65567cce9a748de",
   "display_name": "Python 3.9.4 64-bit"
  },
  "metadata": {
   "interpreter": {
    "hash": "a19b38f71bdd960cb898334f7cecb5afcfaadeea2e0f2108e65567cce9a748de"
   }
  }
 },
 "nbformat": 4,
 "nbformat_minor": 2,
 "cells": [
  {
   "cell_type": "code",
   "execution_count": 1,
   "metadata": {},
   "outputs": [
    {
     "output_type": "stream",
     "name": "stdout",
     "text": [
      "Using the Community license in this session. If you have a full Xpress license, first set the XPAUTH_PATH environment variable to the full path to your license file, xpauth.xpr, and then restart Python. If you want to use the FICO Community license and no longer want to see this message, set the XPAUTH_PATH environment variable to: C:\\Users\\lrr1kor\\AppData\\Local\\Programs\\Python\\Python39\\Lib\\site-packages\\xpress\\license\\community-xpauth.xpr\nNB: setting XPAUTH_PATH will also affect any other Xpress products installed on your system.\n"
     ]
    }
   ],
   "source": [
    "# Imports\n",
    "import pandas as pd\n",
    "import xpress as xp"
   ]
  },
  {
   "cell_type": "code",
   "execution_count": 2,
   "metadata": {},
   "outputs": [],
   "source": [
    "# Data processing here\n",
    "\n",
    "## Input Section\n",
    "def read_excel():\n",
    "    excel_file = pd.ExcelFile(\"data/input_data.xlsx\")\n",
    "    input_df_dict = {sheet_name: excel_file.parse(sheet_name)\n",
    "                     for sheet_name in excel_file.sheet_names}\n",
    "    return input_df_dict\n",
    "\n",
    "def load_data():\n",
    "    return get_modified_data(read_excel())\n",
    "\n",
    "def get_modified_data(input_df_dict):\n",
    "    input_param_dict = input_df_dict['parameters'].set_index('attribute')['value'].to_dict()\n",
    "    return input_df_dict, input_param_dict\n",
    "\n",
    "# Output Section\n",
    "def _create_outputs_df(opt_series, cols, name, output_df_dict):\n",
    "    df = pd.DataFrame(data=opt_series, index=opt_series.index.values).reset_index()\n",
    "    df.columns = cols\n",
    "    output_df_dict[name] = df\n",
    "\n",
    "def write_outputs_xpress(dict_of_variables, model):\n",
    "    output_df_dict = {}\n",
    "    cols = ['month', 'value']\n",
    "    for name, var in dict_of_variables.items():\n",
    "        opt_series = pd.Series({k + 1: model.getSolution(v) for k, v in var.items()})\n",
    "        _create_outputs_df(opt_series, cols, name, output_df_dict)\n",
    "    return output_df_dict\n",
    "\n",
    "def write_to_csv(output_df_dict):\n",
    "    for key, df in output_df_dict.items():\n",
    "        out_name = ''.join(('optimal_', key, '.csv'))\n",
    "        out_name = 'data/' + out_name\n",
    "        df.to_csv(out_name, index = False)"
   ]
  },
  {
   "cell_type": "code",
   "execution_count": 3,
   "metadata": {},
   "outputs": [
    {
     "output_type": "stream",
     "name": "stdout",
     "text": [
      "FICO Xpress v8.11.3, Community, solve started 11:30:44, Jul 13, 2021\nHeap usage: 345KB (peak 345KB, 538KB system)\nMinimizing LP multiperiod_prod_planning with these control settings:\nOUTPUTLOG = 1\nOriginal problem has:\n        18 rows           18 cols           35 elements\nPresolved problem has:\n         5 rows           16 cols           20 elements\nPresolve finished in 0 seconds\nHeap usage: 346KB (peak 365KB, 540KB system)\n\nCoefficient range                    original                 solved        \n  Coefficients   [min,max] : [ 1.00e+00,  1.00e+00] / [ 1.00e+00,  1.00e+00]\n  RHS and bounds [min,max] : [ 8.00e+01,  5.20e+02] / [ 8.00e+01,  5.50e+02]\n  Objective      [min,max] : [ 3.00e+00,  4.50e+01] / [ 3.00e+00,  4.80e+01]\nAutoscaling applied standard scaling\n\n \n   Its         Obj Value      S   Ninf  Nneg   Sum Dual Inf  Time\n     0       26649.99956      D      5     0        .000000     0\n     7       103960.0000      D      0     0        .000000     0\nUncrunching matrix\nOptimal solution found\nDual solved problem\n  7 simplex iterations in 0s\n\nFinal objective                       : 1.039600000000000e+05\n  Max primal violation      (abs/rel) :       0.0 /       0.0\n  Max dual violation        (abs/rel) :       0.0 /       0.0\n  Max complementarity viol. (abs/rel) :       0.0 /       0.0\nThe solution is optimal and the objective value is $103,960.00!\n"
     ]
    }
   ],
   "source": [
    "#\n",
    "# Main Program\n",
    "#\n",
    "# ================== Set up data ==================\n",
    "# Reading both sheets of input excel file and putting in dataframe \n",
    "input_df_dict, input_param_dict = load_data()\n",
    "\n",
    "# ================== Set up the optimization model ==================\n",
    "\n",
    "model = xp.problem(name='multiperiod_prod_planning')\n",
    "\n",
    "# ================== Decision variables ==================\n",
    "production_variables = xp.vars(input_df_dict['input_data'].index, name='X', vartype=xp.continuous)\n",
    "overtime_prod_variables = xp.vars(input_df_dict['input_data'].index, name='Y', vartype=xp.continuous)\n",
    "inventory_variables = xp.vars(input_df_dict['input_data'].index, name='I', vartype=xp.continuous)\n",
    "\n",
    "model.addVariable(production_variables, overtime_prod_variables, inventory_variables)\n",
    "\n",
    "# ================== Inventory balance constraints ==================\n",
    "model.addConstraint(\n",
    "    xp.constraint(\n",
    "        body=inventory_variables[period - 1] + production_variables[period] + overtime_prod_variables[period] - inventory_variables[period],\n",
    "        sense=xp.eq,\n",
    "        name='inv_balance' + str(period),\n",
    "        rhs=value.demand)\n",
    "    for period, value in input_df_dict['input_data'].iloc[1:].iterrows())\n",
    "\n",
    "# inv balance for first period\n",
    "model.addConstraint(\n",
    "    xp.constraint(\n",
    "        body=production_variables[0] + overtime_prod_variables[0] - inventory_variables[0],\n",
    "        sense=xp.eq,\n",
    "        name='inv_balance0',\n",
    "        rhs=input_df_dict['input_data'].iloc[0].demand - input_param_dict['initial_inventory']))\n",
    "\n",
    "# ================== Production capacity constraints ==================\n",
    "model.addConstraint(\n",
    "    xp.constraint(\n",
    "        body=value,\n",
    "        sense=xp.leq,\n",
    "        name='prod_cap_month_' + str(index),\n",
    "        rhs=input_df_dict['input_data'].iloc[index].regular_production_capacity)\n",
    "    for index, value in production_variables.items())\n",
    "\n",
    "# ================== Overtime Production capacity constraints ==================\n",
    "model.addConstraint(\n",
    "    xp.constraint(\n",
    "        body=value,\n",
    "        sense=xp.leq,\n",
    "        name='over_prod_cap_month_' + str(index),\n",
    "        rhs=input_df_dict['input_data'].iloc[index].overtime_prod_capacity)\n",
    "    for index, value in overtime_prod_variables.items())\n",
    "\n",
    "\n",
    "# ================== Costs and objective function ==================\n",
    "total_holding_cost = input_param_dict['holding_cost'] * xp.Sum(inventory_variables)\n",
    "total_production_cost = 40 * xp.Sum(production_variables)\n",
    "total_overtime_prod_cost = 45 * xp.Sum(overtime_prod_variables)\n",
    "\n",
    "objective = total_holding_cost + total_production_cost + total_overtime_prod_cost\n",
    "\n",
    "model.setObjective(objective, sense=xp.minimize)\n",
    "\n",
    "# ================== Optimization ==================\n",
    "\n",
    "model.write(model.name(), 'lp')\n",
    "\n",
    "model.solve()\n",
    "\n",
    "# for LP: 1: optimal, 2: infeasible, 5: unbounded. for MIP: 5: infeasible, 6: optimal, 7: unbounded\n",
    "if model.getProbStatus() == 1:\n",
    "    print(f'The solution is optimal and the objective value is ${model.getObjVal():,.2f}!')\n",
    "\n",
    "# ================== Output ==================\n",
    "dict_of_variables = {'production_variables': production_variables,\n",
    "                     'overtime_prod_variables': overtime_prod_variables,\n",
    "                     'inventory_variables': inventory_variables}\n",
    "\n",
    "output_df = write_outputs_xpress(dict_of_variables, model)\n",
    "write_to_csv(output_df)"
   ]
  },
  {
   "cell_type": "code",
   "execution_count": null,
   "metadata": {},
   "outputs": [],
   "source": []
  }
 ]
}